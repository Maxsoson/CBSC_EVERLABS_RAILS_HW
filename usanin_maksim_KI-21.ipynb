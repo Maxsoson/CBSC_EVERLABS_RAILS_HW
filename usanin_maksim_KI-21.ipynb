{
 "cells": [
  {
   "cell_type": "markdown",
   "id": "7bf7e7fd",
   "metadata": {},
   "source": [
    "# 🧠 Аналіз та рефакторинг промптів для FPGA-проєктів\n",
    "Цей ноутбук демонструє повний цикл створення та оцінки якості промптів для аналізу HDL-коду (Verilog/VHDL) у FPGA-проєктах.\n",
    "\n",
    "**Етапи:**\n",
    "1. Створення базового промпту\n",
    "2. Додавання системного контексту\n",
    "3. Проведення токенізації\n",
    "4. Оцінка якості результатів\n",
    "5. Пропозиції для покращення"
   ]
  },
  {
   "cell_type": "markdown",
   "id": "e7dad89c",
   "metadata": {},
   "source": [
    "## ⚙️ 1. Створення базового промпту"
   ]
  },
  {
   "cell_type": "code",
   "execution_count": 1,
   "id": "9a979b08",
   "metadata": {},
   "outputs": [
    {
     "name": "stdout",
     "output_type": "stream",
     "text": [
      "Analyze the following Verilog or VHDL code.\n",
      "Identify syntax or logic issues, suggest improvements, and provide a refactored version\n",
      "that keeps the same behavior but improves clarity and synthesis efficiency.\n",
      "Then explain what was changed and why.\n"
     ]
    }
   ],
   "source": [
    "# Базовий промпт для аналізу FPGA HDL-коду\n",
    "basic_prompt = (\n",
    "    \"Analyze the following Verilog or VHDL code.\\n\"\n",
    "    \"Identify syntax or logic issues, suggest improvements, and provide a refactored version\\n\"\n",
    "    \"that keeps the same behavior but improves clarity and synthesis efficiency.\\n\"\n",
    "    \"Then explain what was changed and why.\"\n",
    ")\n",
    "\n",
    "print(basic_prompt)"
   ]
  },
  {
   "cell_type": "code",
   "execution_count": null,
   "id": "bae1eb19",
   "metadata": {},
   "outputs": [],
   "source": []
  },
  {
   "cell_type": "markdown",
   "id": "13798196",
   "metadata": {},
   "source": [
    "## 🧩 2. Додавання системного контексту"
   ]
  },
  {
   "cell_type": "code",
   "execution_count": 2,
   "id": "94a3a72b",
   "metadata": {},
   "outputs": [
    {
     "name": "stdout",
     "output_type": "stream",
     "text": [
      "You are a professional FPGA and digital hardware engineer with 10+ years of experience in Verilog/VHDL design and optimization.\n",
      "You must analyze the provided HDL code in terms of correctness, synthesis efficiency, and timing.\n",
      "Provide results in a clear structured format:\n",
      "- Summary of detected problems\n",
      "- Recommended architectural improvements\n",
      "- Refactored and commented HDL code\n",
      "- Implementation notes for Vivado/Quartus tools.\n",
      "\n"
     ]
    }
   ],
   "source": [
    "# Промпт з системним контекстом\n",
    "context_prompt = (\n",
    "    \"You are a professional FPGA and digital hardware engineer with 10+ years of experience in Verilog/VHDL design and optimization.\\n\"\n",
    "    \"You must analyze the provided HDL code in terms of correctness, synthesis efficiency, and timing.\\n\"\n",
    "    \"Provide results in a clear structured format:\\n\"\n",
    "    \"- Summary of detected problems\\n\"\n",
    "    \"- Recommended architectural improvements\\n\"\n",
    "    \"- Refactored and commented HDL code\\n\"\n",
    "    \"- Implementation notes for Vivado/Quartus tools.\\n\"\n",
    ")\n",
    "\n",
    "print(context_prompt)"
   ]
  },
  {
   "cell_type": "markdown",
   "id": "01fce8a2",
   "metadata": {},
   "source": [
    "## 🔢 3. Проведення токенізації"
   ]
  },
  {
   "cell_type": "code",
   "execution_count": 4,
   "id": "65d1b582",
   "metadata": {},
   "outputs": [
    {
     "name": "stdout",
     "output_type": "stream",
     "text": [
      "Requirement already satisfied: transformers in /usr/local/python/3.12.1/lib/python3.12/site-packages (4.57.1)\n",
      "Requirement already satisfied: filelock in /home/codespace/.local/lib/python3.12/site-packages (from transformers) (3.13.1)\n",
      "Requirement already satisfied: huggingface-hub<1.0,>=0.34.0 in /usr/local/python/3.12.1/lib/python3.12/site-packages (from transformers) (0.36.0)\n",
      "Requirement already satisfied: numpy>=1.17 in /home/codespace/.local/lib/python3.12/site-packages (from transformers) (2.3.1)\n",
      "Requirement already satisfied: packaging>=20.0 in /home/codespace/.local/lib/python3.12/site-packages (from transformers) (25.0)\n",
      "Requirement already satisfied: pyyaml>=5.1 in /home/codespace/.local/lib/python3.12/site-packages (from transformers) (6.0.2)\n",
      "Requirement already satisfied: regex!=2019.12.17 in /usr/local/python/3.12.1/lib/python3.12/site-packages (from transformers) (2025.10.23)\n",
      "Requirement already satisfied: requests in /home/codespace/.local/lib/python3.12/site-packages (from transformers) (2.32.4)\n",
      "Requirement already satisfied: tokenizers<=0.23.0,>=0.22.0 in /usr/local/python/3.12.1/lib/python3.12/site-packages (from transformers) (0.22.1)\n",
      "Requirement already satisfied: safetensors>=0.4.3 in /usr/local/python/3.12.1/lib/python3.12/site-packages (from transformers) (0.6.2)\n",
      "Requirement already satisfied: tqdm>=4.27 in /usr/local/python/3.12.1/lib/python3.12/site-packages (from transformers) (4.67.1)\n",
      "Requirement already satisfied: fsspec>=2023.5.0 in /home/codespace/.local/lib/python3.12/site-packages (from huggingface-hub<1.0,>=0.34.0->transformers) (2024.6.1)\n",
      "Requirement already satisfied: typing-extensions>=3.7.4.3 in /home/codespace/.local/lib/python3.12/site-packages (from huggingface-hub<1.0,>=0.34.0->transformers) (4.14.1)\n",
      "Requirement already satisfied: hf-xet<2.0.0,>=1.1.3 in /usr/local/python/3.12.1/lib/python3.12/site-packages (from huggingface-hub<1.0,>=0.34.0->transformers) (1.2.0)\n",
      "Requirement already satisfied: charset_normalizer<4,>=2 in /home/codespace/.local/lib/python3.12/site-packages (from requests->transformers) (3.4.2)\n",
      "Requirement already satisfied: idna<4,>=2.5 in /home/codespace/.local/lib/python3.12/site-packages (from requests->transformers) (3.10)\n",
      "Requirement already satisfied: urllib3<3,>=1.21.1 in /home/codespace/.local/lib/python3.12/site-packages (from requests->transformers) (2.5.0)\n",
      "Requirement already satisfied: certifi>=2017.4.17 in /home/codespace/.local/lib/python3.12/site-packages (from requests->transformers) (2025.7.9)\n",
      "\n",
      "\u001b[1m[\u001b[0m\u001b[34;49mnotice\u001b[0m\u001b[1;39;49m]\u001b[0m\u001b[39;49m A new release of pip is available: \u001b[0m\u001b[31;49m25.1.1\u001b[0m\u001b[39;49m -> \u001b[0m\u001b[32;49m25.3\u001b[0m\n",
      "\u001b[1m[\u001b[0m\u001b[34;49mnotice\u001b[0m\u001b[1;39;49m]\u001b[0m\u001b[39;49m To update, run: \u001b[0m\u001b[32;49mpython3 -m pip install --upgrade pip\u001b[0m\n"
     ]
    }
   ],
   "source": [
    "!pip install transformers\n",
    "\n",
    "\n"
   ]
  },
  {
   "cell_type": "code",
   "execution_count": 5,
   "id": "51e636d2",
   "metadata": {},
   "outputs": [
    {
     "name": "stderr",
     "output_type": "stream",
     "text": [
      "/usr/local/python/3.12.1/lib/python3.12/site-packages/tqdm/auto.py:21: TqdmWarning: IProgress not found. Please update jupyter and ipywidgets. See https://ipywidgets.readthedocs.io/en/stable/user_install.html\n",
      "  from .autonotebook import tqdm as notebook_tqdm\n"
     ]
    },
    {
     "name": "stdout",
     "output_type": "stream",
     "text": [
      "Базовий промпт: 31 токенів\n",
      "Промпт з контекстом: 45 токенів\n"
     ]
    }
   ],
   "source": [
    "# якщо ще не встановлено\n",
    "# !pip install transformers\n",
    "\n",
    "from transformers import GPT2TokenizerFast\n",
    "\n",
    "# ініціалізація токенізатора\n",
    "tokenizer = GPT2TokenizerFast.from_pretrained(\"gpt2\")\n",
    "\n",
    "basic_prompt = \"Це приклад базового промпта.\"\n",
    "context_prompt = \"Це приклад промпта з додатковим контекстом.\"\n",
    "\n",
    "len_basic = len(tokenizer.encode(basic_prompt))\n",
    "len_context = len(tokenizer.encode(context_prompt))\n",
    "\n",
    "print(f\"Базовий промпт: {len_basic} токенів\")\n",
    "print(f\"Промпт з контекстом: {len_context} токенів\")\n"
   ]
  },
  {
   "cell_type": "markdown",
   "id": "4928100a",
   "metadata": {},
   "source": [
    "## 📊 4. Оцінка якості результатів (умовна симуляція)"
   ]
  },
  {
   "cell_type": "code",
   "execution_count": 6,
   "id": "a5d2b609",
   "metadata": {},
   "outputs": [
    {
     "name": "stderr",
     "output_type": "stream",
     "text": [
      "huggingface/tokenizers: The current process just got forked, after parallelism has already been used. Disabling parallelism to avoid deadlocks...\n",
      "To disable this warning, you can either:\n",
      "\t- Avoid using `tokenizers` before the fork if possible\n",
      "\t- Explicitly set the environment variable TOKENIZERS_PARALLELISM=(true | false)\n"
     ]
    },
    {
     "name": "stdout",
     "output_type": "stream",
     "text": [
      "Requirement already satisfied: pandas in /home/codespace/.local/lib/python3.12/site-packages (2.3.1)\n",
      "Requirement already satisfied: numpy>=1.26.0 in /home/codespace/.local/lib/python3.12/site-packages (from pandas) (2.3.1)\n",
      "Requirement already satisfied: python-dateutil>=2.8.2 in /home/codespace/.local/lib/python3.12/site-packages (from pandas) (2.9.0.post0)\n",
      "Requirement already satisfied: pytz>=2020.1 in /home/codespace/.local/lib/python3.12/site-packages (from pandas) (2025.2)\n",
      "Requirement already satisfied: tzdata>=2022.7 in /home/codespace/.local/lib/python3.12/site-packages (from pandas) (2025.2)\n",
      "Requirement already satisfied: six>=1.5 in /home/codespace/.local/lib/python3.12/site-packages (from python-dateutil>=2.8.2->pandas) (1.17.0)\n",
      "\n",
      "\u001b[1m[\u001b[0m\u001b[34;49mnotice\u001b[0m\u001b[1;39;49m]\u001b[0m\u001b[39;49m A new release of pip is available: \u001b[0m\u001b[31;49m25.1.1\u001b[0m\u001b[39;49m -> \u001b[0m\u001b[32;49m25.3\u001b[0m\n",
      "\u001b[1m[\u001b[0m\u001b[34;49mnotice\u001b[0m\u001b[1;39;49m]\u001b[0m\u001b[39;49m To update, run: \u001b[0m\u001b[32;49mpython3 -m pip install --upgrade pip\u001b[0m\n"
     ]
    }
   ],
   "source": [
    "!pip install pandas"
   ]
  },
  {
   "cell_type": "code",
   "execution_count": 7,
   "id": "c35a9ccb",
   "metadata": {},
   "outputs": [
    {
     "data": {
      "text/html": [
       "<div>\n",
       "<style scoped>\n",
       "    .dataframe tbody tr th:only-of-type {\n",
       "        vertical-align: middle;\n",
       "    }\n",
       "\n",
       "    .dataframe tbody tr th {\n",
       "        vertical-align: top;\n",
       "    }\n",
       "\n",
       "    .dataframe thead th {\n",
       "        text-align: right;\n",
       "    }\n",
       "</style>\n",
       "<table border=\"1\" class=\"dataframe\">\n",
       "  <thead>\n",
       "    <tr style=\"text-align: right;\">\n",
       "      <th></th>\n",
       "      <th>Критерій</th>\n",
       "      <th>Базовий промпт</th>\n",
       "      <th>З контекстом</th>\n",
       "      <th>Покращення, %</th>\n",
       "    </tr>\n",
       "  </thead>\n",
       "  <tbody>\n",
       "    <tr>\n",
       "      <th>0</th>\n",
       "      <td>Точність виявлення помилок</td>\n",
       "      <td>3</td>\n",
       "      <td>5</td>\n",
       "      <td>66.666667</td>\n",
       "    </tr>\n",
       "    <tr>\n",
       "      <th>1</th>\n",
       "      <td>Глибина оптимізації</td>\n",
       "      <td>2</td>\n",
       "      <td>5</td>\n",
       "      <td>150.000000</td>\n",
       "    </tr>\n",
       "    <tr>\n",
       "      <th>2</th>\n",
       "      <td>Структура відповіді</td>\n",
       "      <td>3</td>\n",
       "      <td>5</td>\n",
       "      <td>66.666667</td>\n",
       "    </tr>\n",
       "    <tr>\n",
       "      <th>3</th>\n",
       "      <td>Технічна релевантність</td>\n",
       "      <td>4</td>\n",
       "      <td>5</td>\n",
       "      <td>25.000000</td>\n",
       "    </tr>\n",
       "  </tbody>\n",
       "</table>\n",
       "</div>"
      ],
      "text/plain": [
       "                     Критерій  Базовий промпт  З контекстом  Покращення, %\n",
       "0  Точність виявлення помилок               3             5      66.666667\n",
       "1         Глибина оптимізації               2             5     150.000000\n",
       "2         Структура відповіді               3             5      66.666667\n",
       "3      Технічна релевантність               4             5      25.000000"
      ]
     },
     "execution_count": 7,
     "metadata": {},
     "output_type": "execute_result"
    }
   ],
   "source": [
    "import pandas as pd\n",
    "\n",
    "# Таблиця з оцінкою якості промптів (1–5)\n",
    "evaluation = pd.DataFrame({\n",
    "    'Критерій': ['Точність виявлення помилок', 'Глибина оптимізації', 'Структура відповіді', 'Технічна релевантність'],\n",
    "    'Базовий промпт': [3, 2, 3, 4],\n",
    "    'З контекстом': [5, 5, 5, 5]\n",
    "})\n",
    "\n",
    "evaluation['Покращення, %'] = (evaluation['З контекстом'] - evaluation['Базовий промпт']) / evaluation['Базовий промпт'] * 100\n",
    "evaluation"
   ]
  },
  {
   "cell_type": "markdown",
   "id": "b4fde2b6",
   "metadata": {},
   "source": [
    "## 🚀 5. Пропозиції щодо покращення промптів"
   ]
  },
  {
   "cell_type": "code",
   "execution_count": 8,
   "id": "9c85509c",
   "metadata": {},
   "outputs": [
    {
     "name": "stdout",
     "output_type": "stream",
     "text": [
      "1️⃣ Додати параметризацію (тип ПЛІС, мова, розмір коду)\n",
      "2️⃣ Задати стиль відповіді Markdown (розділи Issues, Recommendations, Refactored Code)\n",
      "3️⃣ Використати few-shot приклади (приклад початкового і поліпшеного коду)\n",
      "4️⃣ Автоматично рахувати кількість знайдених попереджень ('Warning', 'Latch', 'Reset') у відповіді\n",
      "5️⃣ Задати target device (наприклад, Xilinx Artix-7) для точнішої оптимізації\n"
     ]
    }
   ],
   "source": [
    "improvements = [\n",
    "    \"1️⃣ Додати параметризацію (тип ПЛІС, мова, розмір коду)\",\n",
    "    \"2️⃣ Задати стиль відповіді Markdown (розділи Issues, Recommendations, Refactored Code)\",\n",
    "    \"3️⃣ Використати few-shot приклади (приклад початкового і поліпшеного коду)\",\n",
    "    \"4️⃣ Автоматично рахувати кількість знайдених попереджень ('Warning', 'Latch', 'Reset') у відповіді\",\n",
    "    \"5️⃣ Задати target device (наприклад, Xilinx Artix-7) для точнішої оптимізації\"\n",
    "]\n",
    "\n",
    "for imp in improvements:\n",
    "    print(imp)"
   ]
  },
  {
   "cell_type": "markdown",
   "id": "0619f91c",
   "metadata": {},
   "source": [
    "## ✅ 6. Підсумковий оптимізований промпт"
   ]
  },
  {
   "cell_type": "code",
   "execution_count": 9,
   "id": "ddb3361a",
   "metadata": {},
   "outputs": [
    {
     "name": "stdout",
     "output_type": "stream",
     "text": [
      "**System role:**\n",
      "You are a senior FPGA engineer specializing in Verilog/VHDL optimization for Xilinx and Intel FPGAs.\n",
      "\n",
      "**User prompt:**\n",
      "Analyze and refactor the following HDL code.\n",
      "Identify any timing, reset, or synthesis issues.\n",
      "Suggest improvements and provide commented, clean HDL code.\n",
      "\n",
      "**Output format:**\n",
      "- Summary of issues\n",
      "- Recommended improvements\n",
      "- Refactored HDL code\n",
      "- Implementation notes for Vivado/Quartus.\n",
      "\n",
      "**Target device:** Xilinx Artix-7\n",
      "**Language:** Verilog\n",
      "\n"
     ]
    }
   ],
   "source": [
    "final_prompt = (\n",
    "    \"**System role:**\\n\"\n",
    "    \"You are a senior FPGA engineer specializing in Verilog/VHDL optimization for Xilinx and Intel FPGAs.\\n\\n\"\n",
    "    \"**User prompt:**\\n\"\n",
    "    \"Analyze and refactor the following HDL code.\\n\"\n",
    "    \"Identify any timing, reset, or synthesis issues.\\n\"\n",
    "    \"Suggest improvements and provide commented, clean HDL code.\\n\\n\"\n",
    "    \"**Output format:**\\n\"\n",
    "    \"- Summary of issues\\n\"\n",
    "    \"- Recommended improvements\\n\"\n",
    "    \"- Refactored HDL code\\n\"\n",
    "    \"- Implementation notes for Vivado/Quartus.\\n\\n\"\n",
    "    \"**Target device:** Xilinx Artix-7\\n\"\n",
    "    \"**Language:** Verilog\\n\"\n",
    ")\n",
    "\n",
    "print(final_prompt)"
   ]
  },
  {
   "cell_type": "markdown",
   "id": "7992c83c",
   "metadata": {},
   "source": [
    "## 📘 Висновки\n",
    "- Базовий промпт працює, але має низьку глибину аналізу.\n",
    "- Системний контекст підвищує якість і структурованість результатів.\n",
    "- Оптимізований промпт забезпечує стабільну роботу для FPGA-проєктів будь-якої складності."
   ]
  }
 ],
 "metadata": {
  "kernelspec": {
   "display_name": "Python 3",
   "language": "python",
   "name": "python3"
  },
  "language_info": {
   "codemirror_mode": {
    "name": "ipython",
    "version": 3
   },
   "file_extension": ".py",
   "mimetype": "text/x-python",
   "name": "python",
   "nbconvert_exporter": "python",
   "pygments_lexer": "ipython3",
   "version": "3.12.1"
  }
 },
 "nbformat": 4,
 "nbformat_minor": 5
}
